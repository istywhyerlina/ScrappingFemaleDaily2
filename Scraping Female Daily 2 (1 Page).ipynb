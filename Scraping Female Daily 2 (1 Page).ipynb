{
 "cells": [
  {
   "cell_type": "markdown",
   "metadata": {},
   "source": [
    "This time we will correct the latest code version of the Female Daily web scrapping. In the first attempt I tried to scrape all the information with find_all in the first place. It implies that i can scrape information that is filled by \"ALL\" user. That's  because the program arange the record per element automatically as the order of the record itself. It means that if we have 1 user that doesn't fill 1 information it will disintegrate the order of the record.\n",
    "\n",
    "This new version of code, it looks up the detail info per user first, so we get the informations per record correct. I also will return \"None\" or Missing value if the user didn't fill one or more element. "
   ]
  },
  {
   "cell_type": "markdown",
   "metadata": {},
   "source": [
    "# Import Modules"
   ]
  },
  {
   "cell_type": "code",
   "execution_count": 22,
   "metadata": {
    "ExecuteTime": {
     "end_time": "2020-05-10T08:37:25.383808Z",
     "start_time": "2020-05-10T08:37:25.376320Z"
    },
    "scrolled": true
   },
   "outputs": [],
   "source": [
    "import requests\n",
    "from bs4 import BeautifulSoup\n",
    "import pandas as pd\n",
    "import re\n",
    "from datetime import datetime\n",
    "\n"
   ]
  },
  {
   "cell_type": "code",
   "execution_count": 23,
   "metadata": {
    "ExecuteTime": {
     "end_time": "2020-05-10T08:37:26.137829Z",
     "start_time": "2020-05-10T08:37:26.128455Z"
    }
   },
   "outputs": [],
   "source": [
    "#dir_path = os.getcwd()\n",
    "startTime = datetime.now()"
   ]
  },
  {
   "cell_type": "code",
   "execution_count": 24,
   "metadata": {
    "ExecuteTime": {
     "end_time": "2020-05-10T08:26:59.492880Z",
     "start_time": "2020-05-10T08:26:54.567189Z"
    }
   },
   "outputs": [],
   "source": [
    "# Get the url (only 1 page)\n",
    "hal = 2\n",
    "url = 'https://reviews.femaledaily.com/products/lips/lipstick/dear-me-beauty/perfect-matte-lip-coat?cat=&cat_id=0&age_range=&skin_type=&skin_tone=&skin_undertone=&hair_texture=&hair_type=&order=newest&page={hal}'.format(hal=hal)\n",
    "page = requests.get(url)"
   ]
  },
  {
   "cell_type": "markdown",
   "metadata": {},
   "source": [
    "# TO USE SELENIUM"
   ]
  },
  {
   "cell_type": "code",
   "execution_count": 20,
   "metadata": {},
   "outputs": [],
   "source": [
    "#impot module\n",
    "from selenium import webdriver\n",
    "from selenium.webdriver.chrome.options import Options\n",
    "from selenium.webdriver.support.ui import WebDriverWait\n",
    "from selenium.webdriver.support import expected_conditions as EC\n",
    "from selenium.webdriver.common.by import By\n",
    "from selenium.common.exceptions import TimeoutException\n",
    "from bs4 import BeautifulSoup\n",
    "import pandas as pd"
   ]
  },
  {
   "cell_type": "code",
   "execution_count": 21,
   "metadata": {},
   "outputs": [],
   "source": [
    "chrome_options = Options()\n",
    "chrome_options.add_experimental_option(\"prefs\", {\n",
    "  \"download.default_directory\": r\"C:\\Users\\user\\Downloads\",\n",
    "  \"download.prompt_for_download\": False,\n",
    "  \"download.directory_upgrade\": True,\n",
    "  \"safebrowsing.enabled\": False\n",
    "})"
   ]
  },
  {
   "cell_type": "code",
   "execution_count": 19,
   "metadata": {},
   "outputs": [
    {
     "ename": "WebDriverException",
     "evalue": "Message: Service C:/Users/user/Downloads/chromedriver.exe unexpectedly exited. Status code was: 0\n",
     "output_type": "error",
     "traceback": [
      "\u001b[1;31m---------------------------------------------------------------------------\u001b[0m",
      "\u001b[1;31mWebDriverException\u001b[0m                        Traceback (most recent call last)",
      "\u001b[1;32m<ipython-input-19-6200410c2f0a>\u001b[0m in \u001b[0;36m<module>\u001b[1;34m\u001b[0m\n\u001b[1;32m----> 1\u001b[1;33m \u001b[0mdriver\u001b[0m \u001b[1;33m=\u001b[0m \u001b[0mwebdriver\u001b[0m\u001b[1;33m.\u001b[0m\u001b[0mChrome\u001b[0m\u001b[1;33m(\u001b[0m\u001b[1;34m\"C:/Users/user/Downloads/chromedriver.exe\"\u001b[0m\u001b[1;33m,\u001b[0m\u001b[0moptions\u001b[0m\u001b[1;33m=\u001b[0m\u001b[0mchrome_options\u001b[0m\u001b[1;33m)\u001b[0m\u001b[1;33m\u001b[0m\u001b[1;33m\u001b[0m\u001b[0m\n\u001b[0m\u001b[0;32m      2\u001b[0m \u001b[0mdriver\u001b[0m\u001b[1;33m.\u001b[0m\u001b[0mget\u001b[0m\u001b[1;33m(\u001b[0m\u001b[0murl\u001b[0m\u001b[1;33m)\u001b[0m\u001b[1;33m\u001b[0m\u001b[1;33m\u001b[0m\u001b[0m\n",
      "\u001b[1;32m~\\AppData\\Local\\Programs\\Anaconda3\\lib\\site-packages\\selenium\\webdriver\\chrome\\webdriver.py\u001b[0m in \u001b[0;36m__init__\u001b[1;34m(self, executable_path, port, options, service_args, desired_capabilities, service_log_path, chrome_options, keep_alive)\u001b[0m\n\u001b[0;32m     71\u001b[0m             \u001b[0mservice_args\u001b[0m\u001b[1;33m=\u001b[0m\u001b[0mservice_args\u001b[0m\u001b[1;33m,\u001b[0m\u001b[1;33m\u001b[0m\u001b[1;33m\u001b[0m\u001b[0m\n\u001b[0;32m     72\u001b[0m             log_path=service_log_path)\n\u001b[1;32m---> 73\u001b[1;33m         \u001b[0mself\u001b[0m\u001b[1;33m.\u001b[0m\u001b[0mservice\u001b[0m\u001b[1;33m.\u001b[0m\u001b[0mstart\u001b[0m\u001b[1;33m(\u001b[0m\u001b[1;33m)\u001b[0m\u001b[1;33m\u001b[0m\u001b[1;33m\u001b[0m\u001b[0m\n\u001b[0m\u001b[0;32m     74\u001b[0m \u001b[1;33m\u001b[0m\u001b[0m\n\u001b[0;32m     75\u001b[0m         \u001b[1;32mtry\u001b[0m\u001b[1;33m:\u001b[0m\u001b[1;33m\u001b[0m\u001b[1;33m\u001b[0m\u001b[0m\n",
      "\u001b[1;32m~\\AppData\\Local\\Programs\\Anaconda3\\lib\\site-packages\\selenium\\webdriver\\common\\service.py\u001b[0m in \u001b[0;36mstart\u001b[1;34m(self)\u001b[0m\n\u001b[0;32m     96\u001b[0m         \u001b[0mcount\u001b[0m \u001b[1;33m=\u001b[0m \u001b[1;36m0\u001b[0m\u001b[1;33m\u001b[0m\u001b[1;33m\u001b[0m\u001b[0m\n\u001b[0;32m     97\u001b[0m         \u001b[1;32mwhile\u001b[0m \u001b[1;32mTrue\u001b[0m\u001b[1;33m:\u001b[0m\u001b[1;33m\u001b[0m\u001b[1;33m\u001b[0m\u001b[0m\n\u001b[1;32m---> 98\u001b[1;33m             \u001b[0mself\u001b[0m\u001b[1;33m.\u001b[0m\u001b[0massert_process_still_running\u001b[0m\u001b[1;33m(\u001b[0m\u001b[1;33m)\u001b[0m\u001b[1;33m\u001b[0m\u001b[1;33m\u001b[0m\u001b[0m\n\u001b[0m\u001b[0;32m     99\u001b[0m             \u001b[1;32mif\u001b[0m \u001b[0mself\u001b[0m\u001b[1;33m.\u001b[0m\u001b[0mis_connectable\u001b[0m\u001b[1;33m(\u001b[0m\u001b[1;33m)\u001b[0m\u001b[1;33m:\u001b[0m\u001b[1;33m\u001b[0m\u001b[1;33m\u001b[0m\u001b[0m\n\u001b[0;32m    100\u001b[0m                 \u001b[1;32mbreak\u001b[0m\u001b[1;33m\u001b[0m\u001b[1;33m\u001b[0m\u001b[0m\n",
      "\u001b[1;32m~\\AppData\\Local\\Programs\\Anaconda3\\lib\\site-packages\\selenium\\webdriver\\common\\service.py\u001b[0m in \u001b[0;36massert_process_still_running\u001b[1;34m(self)\u001b[0m\n\u001b[0;32m    109\u001b[0m             raise WebDriverException(\n\u001b[0;32m    110\u001b[0m                 \u001b[1;34m'Service %s unexpectedly exited. Status code was: %s'\u001b[0m\u001b[1;33m\u001b[0m\u001b[1;33m\u001b[0m\u001b[0m\n\u001b[1;32m--> 111\u001b[1;33m                 \u001b[1;33m%\u001b[0m \u001b[1;33m(\u001b[0m\u001b[0mself\u001b[0m\u001b[1;33m.\u001b[0m\u001b[0mpath\u001b[0m\u001b[1;33m,\u001b[0m \u001b[0mreturn_code\u001b[0m\u001b[1;33m)\u001b[0m\u001b[1;33m\u001b[0m\u001b[1;33m\u001b[0m\u001b[0m\n\u001b[0m\u001b[0;32m    112\u001b[0m             )\n\u001b[0;32m    113\u001b[0m \u001b[1;33m\u001b[0m\u001b[0m\n",
      "\u001b[1;31mWebDriverException\u001b[0m: Message: Service C:/Users/user/Downloads/chromedriver.exe unexpectedly exited. Status code was: 0\n"
     ]
    }
   ],
   "source": [
    "driver = webdriver.Chrome(\"C:/Users/user/Downloads/chromedriver.exe\",chrome_options=chrome_options)\n",
    "driver.get(url)"
   ]
  },
  {
   "cell_type": "code",
   "execution_count": 25,
   "metadata": {},
   "outputs": [
    {
     "ename": "NameError",
     "evalue": "name 'driver' is not defined",
     "output_type": "error",
     "traceback": [
      "\u001b[1;31m---------------------------------------------------------------------------\u001b[0m",
      "\u001b[1;31mNameError\u001b[0m                                 Traceback (most recent call last)",
      "\u001b[1;32m<ipython-input-25-b427875b12c8>\u001b[0m in \u001b[0;36m<module>\u001b[1;34m\u001b[0m\n\u001b[0;32m      1\u001b[0m \u001b[1;31m#How to click Next Page\u001b[0m\u001b[1;33m\u001b[0m\u001b[1;33m\u001b[0m\u001b[1;33m\u001b[0m\u001b[0m\n\u001b[1;32m----> 2\u001b[1;33m \u001b[0mdriver\u001b[0m\u001b[1;33m.\u001b[0m\u001b[0mfind_element_by_id\u001b[0m\u001b[1;33m(\u001b[0m\u001b[1;34m\"id_next_page\"\u001b[0m\u001b[1;33m)\u001b[0m\u001b[1;33m.\u001b[0m\u001b[0mclick\u001b[0m\u001b[1;33m\u001b[0m\u001b[1;33m\u001b[0m\u001b[0m\n\u001b[0m\u001b[0;32m      3\u001b[0m \u001b[1;33m\u001b[0m\u001b[0m\n\u001b[0;32m      4\u001b[0m \u001b[1;31m#PS I still have an issue with this line\u001b[0m\u001b[1;33m\u001b[0m\u001b[1;33m\u001b[0m\u001b[1;33m\u001b[0m\u001b[0m\n\u001b[0;32m      5\u001b[0m \u001b[1;31m#Is it just me or the next page button can not be clicked, HEEEELPPP\u001b[0m\u001b[1;33m\u001b[0m\u001b[1;33m\u001b[0m\u001b[1;33m\u001b[0m\u001b[0m\n",
      "\u001b[1;31mNameError\u001b[0m: name 'driver' is not defined"
     ]
    }
   ],
   "source": [
    "#How to click Next Page \n",
    "driver.find_element_by_id(\"id_next_page\").click\n",
    "\n",
    "#PS I still have an issue with this line\n",
    "#Is it just me or the next page button can not be clicked, HEEEELPPP"
   ]
  },
  {
   "cell_type": "code",
   "execution_count": 26,
   "metadata": {
    "ExecuteTime": {
     "end_time": "2020-05-10T08:27:00.670647Z",
     "start_time": "2020-05-10T08:27:00.451976Z"
    }
   },
   "outputs": [],
   "source": [
    "# Wrangling HTML with BeautifulSoup\n",
    "\n",
    "#Get Detail  info\n",
    "soup = BeautifulSoup(page.content,'html.parser')\n",
    "detailinfo=soup.find_all('div',class_='review-detail d-flex')\n"
   ]
  },
  {
   "cell_type": "code",
   "execution_count": 27,
   "metadata": {},
   "outputs": [],
   "source": [
    "uname=[]\n",
    "skintype=[]\n",
    "oiltype=[]\n",
    "shade=[]\n",
    "tone=[]\n",
    "age=[]\n",
    "rating=[]\n",
    "comment=[]\n",
    "date=[]\n",
    "rekomen=[]\n",
    "usage_period=[]\n",
    "purchase_point=[]"
   ]
  },
  {
   "cell_type": "code",
   "execution_count": 28,
   "metadata": {},
   "outputs": [],
   "source": [
    "#Loop to get info per user review\n",
    "\n",
    "for elem in detailinfo:\n",
    "    #Get username\n",
    "    Username = elem.find('p',class_='username')\n",
    "    uname.append(Username.text)\n",
    "    #Get Skintype \n",
    "    skin = elem.find('p',class_='skin').text\n",
    "    \n",
    "    #Parsing skin type\n",
    "    skin2=skin.split(\",\")\n",
    "    skintype.append(skin2)\n",
    "    oiltype.append(skin2[0])\n",
    "    shade.append(skin2[1])\n",
    "    tone.append(skin2[2])\n",
    "    age.append(skin2[3])\n",
    "    \n",
    "    #Get rating\n",
    "\n",
    "    star = elem.find('span',class_='cardrv-starlist')\n",
    "    bintang=star.find_all('i',{'class':lambda x: x and \"icon-ic_big_star_full\" in x.split()})\n",
    "    rating.append(len(bintang))\n",
    "\n",
    "    #Get Comment\n",
    "    #PS I Can not click \"Read More\" on the comment section. Is it just me? :(\n",
    "    komen = elem.find('p', class_=\"text-content\")\n",
    "    comment.append(komen.find('span').text)\n",
    "    \n",
    "    #Get Date review\n",
    "    daterev=elem.find('p', class_=\"date review-date\")\n",
    "    date.append(daterev.text)\n",
    "    \n",
    "    #Get Recommended or not\n",
    "    recinfo=elem.find('p', class_=\"recommend\")\n",
    "    if recinfo == None:\n",
    "        rekomen.append(\"None\")\n",
    "    else :\n",
    "        if \"doesn't recommend\" in recinfo.find('b').text:\n",
    "            rekomen.append(\"Not Recommend\")\n",
    "        else:\n",
    "            rekomen.append(\"Recommend\")\n",
    "            \n",
    "    #Get Usage Period and Purchase Point\n",
    "    infowrapper=elem.find('div', class_=\"information-wrapper\")\n",
    "    if infowrapper==None:\n",
    "        usage_period.append(\"None\")\n",
    "        purchase_point.append(\"None\")\n",
    "    else :\n",
    "        info2=infowrapper.find_all('b')\n",
    "        usage_period.append(info2[0].text)\n",
    "        purchase_point.append(info2[1].text)\n",
    "            \n",
    " "
   ]
  },
  {
   "cell_type": "code",
   "execution_count": 29,
   "metadata": {},
   "outputs": [],
   "source": [
    "df = pd.DataFrame(list(zip(uname, oiltype,shade, tone, age, rating,comment,date,rekomen,usage_period,purchase_point )), \n",
    "               columns =[\"username\", \"oiltype\",\"shade\", \"tone\", \"age\", \"rating\",\"comment\",\"date\",\"recommend\",\"usage_period\",\"purchase_point\"])"
   ]
  },
  {
   "cell_type": "code",
   "execution_count": 30,
   "metadata": {},
   "outputs": [
    {
     "name": "stdout",
     "output_type": "stream",
     "text": [
      "            username      oiltype          shade      tone       age  rating  \\\n",
      "0          archita97       Normal   Medium Light      Warm   19 - 24       5   \n",
      "1            Nahla24  Combination         Medium      Warm   19 - 24       5   \n",
      "2          isazarine  Combination         Medium   Neutral   19 - 24       4   \n",
      "3     Nuzhiladwislma         Oily    Medium Dark   Neutral   19 - 24       5   \n",
      "4  fatimahauliarahma  Combination         Medium   Neutral   19 - 24       4   \n",
      "5          corona_xx         Oily   Medium Light   Neutral   19 - 24       5   \n",
      "6       FahiraNisa41         Oily   Medium Light   Neutral   19 - 24       5   \n",
      "7        yanuarizaim         Oily         Medium      Warm   19 - 24       5   \n",
      "8           diviayur  Combination   Medium Light   Neutral   19 - 24       5   \n",
      "9              agkla          Dry   Medium Light      Warm   19 - 24       3   \n",
      "\n",
      "                                             comment         date  \\\n",
      "0  Produk DearMe pertama yang aku punya. Bagus ba...  21 Mar 2020   \n",
      "1  tiba-tiba penasaran sama lip coat nya dear me,...  21 Mar 2020   \n",
      "2  Ini bagus bangett, teksturnya ringan dan langs...  12 Mar 2020   \n",
      "3  Jujur aku suka sama lip coat nya dear me,karen...  26 Feb 2020   \n",
      "4  Dari dulu penasaran banget sama Dear Me Beauty...  22 Feb 2020   \n",
      "5  Gak ngerti lagi sih sama lip cream dear me bea...  18 Feb 2020   \n",
      "6  Udah dari tahun lalu tahu brand Dear Me, dan s...  17 Feb 2020   \n",
      "7  #day3 hai guys aku mau ngeriew tentang lipcrea...  09 Feb 2020   \n",
      "8  Salah satu lipcream matte merk lokal terbaik m...  07 Feb 2020   \n",
      "9  Aku beli produk ini karena banyak yang bilang ...  04 Feb 2020   \n",
      "\n",
      "       recommend          usage_period purchase_point  \n",
      "0      Recommend     6 months - 1 year         Shopee  \n",
      "1      Recommend     6 months - 1 year       sociolla  \n",
      "2      Recommend      Less than 1 week        Sociola  \n",
      "3      Recommend      Less than 1 week         Shopee  \n",
      "4      Recommend      Less than 1 week      Lunadorii  \n",
      "5      Recommend      Less than 1 week       Sociolla  \n",
      "6      Recommend      1 week - 1 month         Watson  \n",
      "7      Recommend    1 month - 3 months         Shopee  \n",
      "8      Recommend   3 months - 6 months         Shopee  \n",
      "9  Not Recommend   3 months - 6 months         Shopee  \n"
     ]
    }
   ],
   "source": [
    "print(df)"
   ]
  },
  {
   "cell_type": "code",
   "execution_count": 31,
   "metadata": {
    "ExecuteTime": {
     "end_time": "2020-05-10T08:38:02.440082Z",
     "start_time": "2020-05-10T08:38:02.432940Z"
    }
   },
   "outputs": [
    {
     "name": "stdout",
     "output_type": "stream",
     "text": [
      "0:00:24.125380\n"
     ]
    }
   ],
   "source": [
    "print( datetime.now() - startTime)"
   ]
  },
  {
   "cell_type": "code",
   "execution_count": null,
   "metadata": {},
   "outputs": [],
   "source": []
  }
 ],
 "metadata": {
  "kernelspec": {
   "display_name": "Python 3",
   "language": "python",
   "name": "python3"
  },
  "language_info": {
   "codemirror_mode": {
    "name": "ipython",
    "version": 3
   },
   "file_extension": ".py",
   "mimetype": "text/x-python",
   "name": "python",
   "nbconvert_exporter": "python",
   "pygments_lexer": "ipython3",
   "version": "3.7.3"
  }
 },
 "nbformat": 4,
 "nbformat_minor": 2
}
